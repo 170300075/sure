{
  "nbformat": 4,
  "nbformat_minor": 0,
  "metadata": {
    "colab": {
      "provenance": [],
      "collapsed_sections": [
        "oFr7WKG56pxx",
        "M8CvW-Xi6wTR",
        "760cTpzH649p",
        "nSJJUdk1ISAx",
        "-tStBXZcVM0G",
        "bv01Dm3gdNrL",
        "3Sx7vC_KED3A"
      ]
    },
    "kernelspec": {
      "name": "python3",
      "display_name": "Python 3"
    },
    "language_info": {
      "name": "python"
    }
  },
  "cells": [
    {
      "cell_type": "markdown",
      "source": [
        "## Librerías"
      ],
      "metadata": {
        "id": "oFr7WKG56pxx"
      }
    },
    {
      "cell_type": "code",
      "execution_count": 1,
      "metadata": {
        "id": "Bm0iEmXUs7X5"
      },
      "outputs": [],
      "source": [
        "import pandas as pd\n",
        "import matplotlib.pyplot as plt\n",
        "import seaborn as sns\n",
        "\n",
        "import keras\n",
        "from keras.layers import Dense\n",
        "from keras.wrappers.scikit_learn import KerasClassifier\n",
        "from keras.models import Sequential\n",
        "from sklearn.metrics import confusion_matrix, classification_report\n",
        "from sklearn.model_selection import cross_val_score\n"
      ]
    },
    {
      "cell_type": "markdown",
      "source": [
        "## Datos"
      ],
      "metadata": {
        "id": "M8CvW-Xi6wTR"
      }
    },
    {
      "cell_type": "markdown",
      "source": [
        "Datos completos normalizados:\n",
        "\n"
      ],
      "metadata": {
        "id": "GsU5yhh09htr"
      }
    },
    {
      "cell_type": "code",
      "source": [
        "datos = pd.read_csv(\"predictores_train_VIF_NORM.csv\") "
      ],
      "metadata": {
        "id": "CSUG6BXlARma"
      },
      "execution_count": 22,
      "outputs": []
    },
    {
      "cell_type": "code",
      "source": [
        "dat_y_train = datos.loc[:,datos.columns == \"carga_aprobada\"]\n",
        "dat_x_train = datos.loc[:, datos.columns != 'carga_aprobada']"
      ],
      "metadata": {
        "id": "9O8XPx9-Am2l"
      },
      "execution_count": 3,
      "outputs": []
    },
    {
      "cell_type": "markdown",
      "source": [
        "Conjunto de entrenamiento y prueba:"
      ],
      "metadata": {
        "id": "17h03foW9nZq"
      }
    },
    {
      "cell_type": "code",
      "source": [
        "train = pd.read_csv(\"train_norm.csv\", encoding = \"latin-1\") "
      ],
      "metadata": {
        "id": "uBmZkQpVuK5l"
      },
      "execution_count": 4,
      "outputs": []
    },
    {
      "cell_type": "code",
      "source": [
        "y_train2 = train.loc[:,train.columns == \"carga_aprobada\"]\n",
        "x_train2 = train.loc[:, train.columns != 'carga_aprobada']"
      ],
      "metadata": {
        "id": "Ak4YUdiiuWgL"
      },
      "execution_count": 5,
      "outputs": []
    },
    {
      "cell_type": "code",
      "source": [
        "test = pd.read_csv(\"test_norm.csv\", encoding = \"latin-1\") "
      ],
      "metadata": {
        "id": "yfl5dzRR8Rgi"
      },
      "execution_count": 6,
      "outputs": []
    },
    {
      "cell_type": "code",
      "source": [
        "y_test2 = test.loc[:,test.columns == \"carga_aprobada\"]\n",
        "x_test2 = test.loc[:, test.columns != 'carga_aprobada']"
      ],
      "metadata": {
        "id": "FHwBWYLvnvpw"
      },
      "execution_count": 7,
      "outputs": []
    },
    {
      "cell_type": "markdown",
      "source": [
        "## red neuronal 1"
      ],
      "metadata": {
        "id": "760cTpzH649p"
      }
    },
    {
      "cell_type": "markdown",
      "source": [
        "A continuación, se realiza la primera red neuonal. En donde no existen capas ocultas, simplemente las variables de entrada están conectadas directamente a la última capa. "
      ],
      "metadata": {
        "id": "z8Oi7dK76-EZ"
      }
    },
    {
      "cell_type": "code",
      "source": [
        "def plot_loss_accuracy(history):\n",
        "    historydf = pd.DataFrame(history.history, index=history.epoch)\n",
        "    plt.figure(figsize=(18, 16))\n",
        "    historydf.plot(ylim=(0, max(1, historydf.values.max())))\n",
        "    loss = history.history['loss'][-1]\n",
        "    acc = history.history['accuracy'][-1]\n",
        "    plt.title('Loss: %.3f, Accuracy: %.3f' % (loss, acc))"
      ],
      "metadata": {
        "id": "tIwtQase56VL"
      },
      "execution_count": 8,
      "outputs": []
    },
    {
      "cell_type": "code",
      "source": [
        "def plot_confusion_matrix(model, X, y):\n",
        "    #y_pred = model.predict_classes(X, verbose=0)\n",
        "    y_pred =  (model.predict(X) > 0.5).astype(\"int32\")\n",
        "    plt.figure(figsize=(8, 6))\n",
        "    sns.heatmap(pd.DataFrame(confusion_matrix(y, y_pred)), annot=True, fmt='d', cmap='YlGnBu', alpha=0.8, vmin=0)"
      ],
      "metadata": {
        "id": "6SbCgnRl_T0d"
      },
      "execution_count": 9,
      "outputs": []
    },
    {
      "cell_type": "code",
      "source": [
        "model = Sequential()\n",
        "model.add(Dense(1, input_shape=(x_train2.shape[1],), activation='sigmoid'))"
      ],
      "metadata": {
        "id": "5AWtzcJ0tLtu"
      },
      "execution_count": null,
      "outputs": []
    },
    {
      "cell_type": "code",
      "source": [
        "model.compile(optimizer='adam', loss='binary_crossentropy', metrics=[\"accuracy\"])"
      ],
      "metadata": {
        "id": "9_y7C6E1yJhm"
      },
      "execution_count": null,
      "outputs": []
    },
    {
      "cell_type": "code",
      "source": [
        "history = model.fit(x=x_train2, y=y_train2, verbose=0, epochs=20, validation_split=0.2)"
      ],
      "metadata": {
        "id": "b9fcam0rya-g"
      },
      "execution_count": null,
      "outputs": []
    },
    {
      "cell_type": "code",
      "source": [
        "#plot_loss_accuracy(history)\n",
        "plt.plot(range(20), history.history[\"accuracy\"], \"r\", label=\"Validación\")\n",
        "plt.plot(range(20), history.history[\"val_accuracy\"], \"b\", label = \"Entrenamiento\")\n",
        "plt.xlabel(\"Épocas\")\n",
        "plt.ylabel(\"Presición\")\n",
        "plt.legend()\n",
        "plt.show()"
      ],
      "metadata": {
        "colab": {
          "base_uri": "https://localhost:8080/",
          "height": 281
        },
        "id": "9eWJljLc5_lj",
        "outputId": "a0837e63-a00e-4cc4-f598-6e0062888c8f"
      },
      "execution_count": null,
      "outputs": [
        {
          "output_type": "display_data",
          "data": {
            "text/plain": [
              "<Figure size 432x288 with 1 Axes>"
            ],
            "image/png": "[encoded data removed]"
          },
          "metadata": {
            "needs_background": "light"
          }
        }
      ]
    },
    {
      "cell_type": "code",
      "source": [
        "#plot_loss_accuracy(history)\n",
        "plt.plot(range(20), history.history[\"loss\"], \"r\", label=\"Validación\")\n",
        "plt.plot(range(20), history.history[\"val_loss\"], \"b\", label = \"Entrenamiento\")\n",
        "plt.xlabel(\"Épocas\")\n",
        "plt.ylabel(\"Error absoluto medio\")\n",
        "plt.legend()\n",
        "plt.show()"
      ],
      "metadata": {
        "colab": {
          "base_uri": "https://localhost:8080/",
          "height": 281
        },
        "id": "BWvm0ULswpV7",
        "outputId": "ba1f5030-5a03-4c31-b4b5-2295bef2259b"
      },
      "execution_count": null,
      "outputs": [
        {
          "output_type": "display_data",
          "data": {
            "text/plain": [
              "<Figure size 432x288 with 1 Axes>"
            ],
            "image/png": "[encoded data removed]"
          },
          "metadata": {
            "needs_background": "light"
          }
        }
      ]
    },
    {
      "cell_type": "code",
      "source": [
        "y_pred =  (model.predict(x_test2) > 0.5).astype(\"int32\")\n",
        "print(classification_report(y_test2, y_pred))\n",
        "\n",
        "plot_confusion_matrix(model, x_test2, y_test2) "
      ],
      "metadata": {
        "colab": {
          "base_uri": "https://localhost:8080/",
          "height": 565
        },
        "id": "km91WPAeKtXX",
        "outputId": "10f9986c-ea54-49cc-b398-427fddc42fb8"
      },
      "execution_count": null,
      "outputs": [
        {
          "output_type": "stream",
          "name": "stdout",
          "text": [
            "13/13 [==============================] - 0s 1ms/step\n",
            "              precision    recall  f1-score   support\n",
            "\n",
            "           0       0.78      0.82      0.80       240\n",
            "           1       0.68      0.64      0.66       149\n",
            "\n",
            "    accuracy                           0.75       389\n",
            "   macro avg       0.73      0.73      0.73       389\n",
            "weighted avg       0.75      0.75      0.75       389\n",
            "\n",
            "13/13 [==============================] - 0s 1ms/step\n"
          ]
        },
        {
          "output_type": "display_data",
          "data": {
            "text/plain": [
              "<Figure size 576x432 with 2 Axes>"
            ],
            "image/png": "[encoded data removed]"
          },
          "metadata": {
            "needs_background": "light"
          }
        }
      ]
    },
    {
      "cell_type": "code",
      "source": [
        "y_pred[4]"
      ],
      "metadata": {
        "colab": {
          "base_uri": "https://localhost:8080/"
        },
        "id": "vS8ZvewQsFU5",
        "outputId": "2ea2bc6b-dc90-44f9-b3e6-6237571645a5"
      },
      "execution_count": null,
      "outputs": [
        {
          "output_type": "execute_result",
          "data": {
            "text/plain": [
              "array([0], dtype=int32)"
            ]
          },
          "metadata": {},
          "execution_count": 22
        }
      ]
    },
    {
      "cell_type": "markdown",
      "source": [
        "## red Neuronal 2"
      ],
      "metadata": {
        "id": "nSJJUdk1ISAx"
      }
    },
    {
      "cell_type": "code",
      "source": [
        "from keras.optimizers import Adam"
      ],
      "metadata": {
        "id": "H4wBGOoUZgKY"
      },
      "execution_count": null,
      "outputs": []
    },
    {
      "cell_type": "code",
      "source": [
        "model2 = Sequential()\n",
        "model2.add(Dense(16, input_shape=(x_train2.shape[1],), activation='relu'))\n",
        "model2.add(Dense(8, activation='relu'))\n",
        "model2.add(Dense(1, activation='sigmoid'))"
      ],
      "metadata": {
        "id": "zQQAqRDqIRmx"
      },
      "execution_count": null,
      "outputs": []
    },
    {
      "cell_type": "code",
      "source": [
        "model2.compile(optimizer= \"Adam\", loss='binary_crossentropy', metrics=['accuracy'])"
      ],
      "metadata": {
        "id": "urYPDHVIIvKK"
      },
      "execution_count": null,
      "outputs": []
    },
    {
      "cell_type": "code",
      "source": [
        "history2 = model2.fit(x=x_train2, y=y_train2, verbose=0, epochs=30, validation_split=0.2)"
      ],
      "metadata": {
        "id": "Xi2C_SVQI8EU"
      },
      "execution_count": null,
      "outputs": []
    },
    {
      "cell_type": "code",
      "source": [
        "plt.plot(range(30), history2.history[\"accuracy\"], \"r\", label=\"Validación\")\n",
        "plt.plot(range(30), history2.history[\"val_accuracy\"], \"b\", label = \"Entrenamiento\")\n",
        "plt.xlabel(\"Épocas\")\n",
        "plt.ylabel(\"Precisión\")\n",
        "plt.legend()\n",
        "plt.show()"
      ],
      "metadata": {
        "colab": {
          "base_uri": "https://localhost:8080/",
          "height": 281
        },
        "id": "-oIqPe7KI93c",
        "outputId": "70df158f-485e-4ef2-a7b7-60b5ad0f7f92"
      },
      "execution_count": null,
      "outputs": [
        {
          "output_type": "display_data",
          "data": {
            "text/plain": [
              "<Figure size 432x288 with 1 Axes>"
            ],
            "image/png": "[encoded data removed]"
          },
          "metadata": {
            "needs_background": "light"
          }
        }
      ]
    },
    {
      "cell_type": "code",
      "source": [
        "#plot_loss_accuracy(history)\n",
        "plt.plot(range(30), history2.history[\"loss\"], \"r\", label=\"Entrenamiento\")\n",
        "plt.plot(range(30), history2.history[\"val_loss\"], \"b\", label = \"validacion\")\n",
        "plt.xlabel(\"Épocas\")\n",
        "plt.ylabel(\"Error absoluto medio\")\n",
        "plt.legend()\n",
        "plt.show()"
      ],
      "metadata": {
        "colab": {
          "base_uri": "https://localhost:8080/",
          "height": 281
        },
        "id": "QdVGgo4vxDSl",
        "outputId": "0a645819-9dee-4262-cfe2-059e78f256dd"
      },
      "execution_count": null,
      "outputs": [
        {
          "output_type": "display_data",
          "data": {
            "text/plain": [
              "<Figure size 432x288 with 1 Axes>"
            ],
            "image/png": "[encoded data removed]"
          },
          "metadata": {
            "needs_background": "light"
          }
        }
      ]
    },
    {
      "cell_type": "code",
      "source": [
        "y_pred2 =  (model2.predict(x_train2) > 0.5).astype(\"int32\")\n",
        "print(classification_report(y_train2, y_pred2))"
      ],
      "metadata": {
        "colab": {
          "base_uri": "https://localhost:8080/"
        },
        "id": "sfSLZlwxgQIC",
        "outputId": "41740216-38ab-4a14-95b0-e772d493ed3a"
      },
      "execution_count": null,
      "outputs": [
        {
          "output_type": "stream",
          "name": "stdout",
          "text": [
            "29/29 [==============================] - 0s 942us/step\n",
            "              precision    recall  f1-score   support\n",
            "\n",
            "           0       0.74      0.80      0.77       502\n",
            "           1       0.72      0.65      0.68       404\n",
            "\n",
            "    accuracy                           0.73       906\n",
            "   macro avg       0.73      0.72      0.72       906\n",
            "weighted avg       0.73      0.73      0.73       906\n",
            "\n"
          ]
        }
      ]
    },
    {
      "cell_type": "code",
      "source": [
        "plot_confusion_matrix(model2, x_test2, y_test2) "
      ],
      "metadata": {
        "colab": {
          "base_uri": "https://localhost:8080/",
          "height": 391
        },
        "id": "AN5w6jLnZExU",
        "outputId": "ac65a4a9-3fb6-499a-ebe4-513577f2f2d0"
      },
      "execution_count": null,
      "outputs": [
        {
          "output_type": "stream",
          "name": "stdout",
          "text": [
            "13/13 [==============================] - 0s 1ms/step\n"
          ]
        },
        {
          "output_type": "display_data",
          "data": {
            "text/plain": [
              "<Figure size 576x432 with 2 Axes>"
            ],
            "image/png": "[encoded data removed]"
          },
          "metadata": {
            "needs_background": "light"
          }
        }
      ]
    },
    {
      "cell_type": "markdown",
      "source": [
        "Se predicen erróneamente 93 registros de 389 registros. "
      ],
      "metadata": {
        "id": "yiXl_YyT7TWT"
      }
    },
    {
      "cell_type": "markdown",
      "source": [
        "## red Neuronal 3"
      ],
      "metadata": {
        "id": "-tStBXZcVM0G"
      }
    },
    {
      "cell_type": "code",
      "source": [
        "model3 = Sequential()\n",
        "model3.add(Dense(64, input_shape=(x_train2.shape[1],), activation='relu'))\n",
        "model3.add(Dense(32, activation='relu'))\n",
        "model3.add(Dense(16, activation='relu'))\n",
        "#model3.add(Dense(12, activation='relu'))\n",
        "model3.add(Dense(1, activation='sigmoid'))"
      ],
      "metadata": {
        "id": "wBZBRNeHVSXE"
      },
      "execution_count": null,
      "outputs": []
    },
    {
      "cell_type": "code",
      "source": [
        "model3.compile(optimizer=\"adam\", loss='binary_crossentropy', metrics=[\"accuracy\"])"
      ],
      "metadata": {
        "id": "f_zG08uNVu1c"
      },
      "execution_count": null,
      "outputs": []
    },
    {
      "cell_type": "code",
      "source": [
        "history3 = model3.fit(x=x_train2, y=y_train2, verbose=0, epochs=20, validation_split=0.2)"
      ],
      "metadata": {
        "id": "8OfSib8_Vxhz"
      },
      "execution_count": null,
      "outputs": []
    },
    {
      "cell_type": "code",
      "source": [
        "plt.plot(range(20), history3.history[\"val_accuracy\"], \"r\", label=\"Validación\")\n",
        "plt.plot(range(20), history3.history[\"accuracy\"], \"b\", label = \"Entrenamiento\")\n",
        "plt.xlabel(\"Épocas\")\n",
        "plt.ylabel(\"Precisión\")\n",
        "plt.legend()\n",
        "plt.show()"
      ],
      "metadata": {
        "colab": {
          "base_uri": "https://localhost:8080/",
          "height": 281
        },
        "id": "5sgNI_IJV7yD",
        "outputId": "07e06eec-0006-4002-f6b0-e3f6644997b7"
      },
      "execution_count": null,
      "outputs": [
        {
          "output_type": "display_data",
          "data": {
            "text/plain": [
              "<Figure size 432x288 with 1 Axes>"
            ],
            "image/png": "[encoded data removed]"
          },
          "metadata": {
            "needs_background": "light"
          }
        }
      ]
    },
    {
      "cell_type": "code",
      "source": [
        "#plot_loss_accuracy(history)\n",
        "plt.plot(range(20), history3.history[\"val_loss\"], \"r\", label=\"Validación\")\n",
        "plt.plot(range(20), history3.history[\"loss\"], \"b\", label = \"Entrenamiento\")\n",
        "plt.xlabel(\"Épocas\")\n",
        "plt.ylabel(\"Error absoluto medio\")\n",
        "plt.legend()\n",
        "plt.show()"
      ],
      "metadata": {
        "colab": {
          "base_uri": "https://localhost:8080/",
          "height": 281
        },
        "id": "m2JIlb6kyeef",
        "outputId": "0dcfd302-3be1-44b0-974c-75f697da343e"
      },
      "execution_count": null,
      "outputs": [
        {
          "output_type": "display_data",
          "data": {
            "text/plain": [
              "<Figure size 432x288 with 1 Axes>"
            ],
            "image/png": "[encoded data removed]"
          },
          "metadata": {
            "needs_background": "light"
          }
        }
      ]
    },
    {
      "cell_type": "code",
      "source": [
        "y_pred =  (model3.predict(x_test2) > 0.5).astype(\"int32\")\n",
        "print(classification_report(y_test2, y_pred))"
      ],
      "metadata": {
        "colab": {
          "base_uri": "https://localhost:8080/"
        },
        "id": "rJuOL-t3XtwX",
        "outputId": "c2e3cb47-9919-408e-b607-4350263ddfb5"
      },
      "execution_count": null,
      "outputs": [
        {
          "output_type": "stream",
          "name": "stdout",
          "text": [
            "13/13 [==============================] - 0s 1ms/step\n",
            "              precision    recall  f1-score   support\n",
            "\n",
            "           0       0.79      0.84      0.81       240\n",
            "           1       0.71      0.63      0.67       149\n",
            "\n",
            "    accuracy                           0.76       389\n",
            "   macro avg       0.75      0.74      0.74       389\n",
            "weighted avg       0.76      0.76      0.76       389\n",
            "\n"
          ]
        }
      ]
    },
    {
      "cell_type": "code",
      "source": [
        "plot_confusion_matrix(model3, x_test2, y_test2)  \n",
        "#plt.show()"
      ],
      "metadata": {
        "colab": {
          "base_uri": "https://localhost:8080/",
          "height": 391
        },
        "id": "vrUMf0bmnVtj",
        "outputId": "daca190d-6c8b-4054-b538-a55f0f239d97"
      },
      "execution_count": null,
      "outputs": [
        {
          "output_type": "stream",
          "name": "stdout",
          "text": [
            "13/13 [==============================] - 0s 1ms/step\n"
          ]
        },
        {
          "output_type": "display_data",
          "data": {
            "text/plain": [
              "<Figure size 576x432 with 2 Axes>"
            ],
            "image/png": "[encoded data removed]"
          },
          "metadata": {
            "needs_background": "light"
          }
        }
      ]
    },
    {
      "cell_type": "markdown",
      "source": [
        "Se predicen erróneamente 92 registros de 389. "
      ],
      "metadata": {
        "id": "F1OWtZEI7u57"
      }
    },
    {
      "cell_type": "markdown",
      "source": [
        "## red Neuronal 3.1 CON VALIDACIÓN CRUZADA"
      ],
      "metadata": {
        "id": "LzxT4F4Dg8-D"
      }
    },
    {
      "cell_type": "code",
      "source": [
        "# Validación cruzada k fold\n",
        "from sklearn.model_selection import KFold\n",
        "from sklearn.model_selection import StratifiedKFold"
      ],
      "metadata": {
        "id": "Kw-mgka5hK1P"
      },
      "execution_count": 13,
      "outputs": []
    },
    {
      "cell_type": "code",
      "source": [
        "def create_model():\n",
        "  model3_1 = Sequential()\n",
        "  model3_1.add(Dense(64, input_shape=(dat_x_train.shape[1],), activation='relu'))\n",
        "  model3_1.add(Dense(32, activation='relu'))\n",
        "  model3_1.add(Dense(16, activation='relu'))\n",
        "  #model3.add(Dense(12, activation='relu'))\n",
        "  model3_1.add(Dense(1, activation='sigmoid'))\n",
        "  model3_1.compile(optimizer=\"adam\", loss='binary_crossentropy', metrics=[\"accuracy\"])\n",
        "  return model3_1"
      ],
      "metadata": {
        "id": "thrRX5jeyxTI"
      },
      "execution_count": null,
      "outputs": []
    },
    {
      "cell_type": "code",
      "source": [
        "model3_1 = KerasClassifier(build_fn=create_model, epochs=20, verbose=0, batch_size=10)\n",
        "#batch_size=10"
      ],
      "metadata": {
        "colab": {
          "base_uri": "https://localhost:8080/"
        },
        "id": "uibBU1R6zUE5",
        "outputId": "c3ded7f7-d5e1-42c7-c79f-b844c92c1183"
      },
      "execution_count": null,
      "outputs": [
        {
          "output_type": "stream",
          "name": "stderr",
          "text": [
            "/usr/local/lib/python3.7/dist-packages/ipykernel_launcher.py:1: DeprecationWarning: KerasClassifier is deprecated, use Sci-Keras (https://github.com/adriangb/scikeras) instead. See https://www.adriangb.com/scikeras/stable/migration.html for help migrating.\n",
            "  \"\"\"Entry point for launching an IPython kernel.\n"
          ]
        }
      ]
    },
    {
      "cell_type": "code",
      "source": [
        "kfold = StratifiedKFold(n_splits=5, shuffle=True)\n",
        "#, random_state=seed"
      ],
      "metadata": {
        "id": "ySOZyki_zSth"
      },
      "execution_count": null,
      "outputs": []
    },
    {
      "cell_type": "markdown",
      "source": [
        "RESULTADO DE MODELO"
      ],
      "metadata": {
        "id": "YyURUdQy29R-"
      }
    },
    {
      "cell_type": "code",
      "source": [
        "results = cross_val_score(model3_1, dat_x_train, dat_y_train, cv=kfold)\n",
        "print(results)"
      ],
      "metadata": {
        "colab": {
          "base_uri": "https://localhost:8080/"
        },
        "id": "tEdU1Kn3z01r",
        "outputId": "bfa90609-744f-462a-c86e-67016c7a0925"
      },
      "execution_count": null,
      "outputs": [
        {
          "output_type": "stream",
          "name": "stdout",
          "text": [
            "[0.69884169 0.76447874 0.71428573 0.73359072 0.75675678]\n"
          ]
        }
      ]
    },
    {
      "cell_type": "code",
      "source": [
        "#SACANDO EL PROMEDIO\n",
        "print(results.mean())"
      ],
      "metadata": {
        "colab": {
          "base_uri": "https://localhost:8080/"
        },
        "id": "PZS0ipbG37BH",
        "outputId": "8c7d2174-bd44-401c-cf7b-dd10b285b999"
      },
      "execution_count": null,
      "outputs": [
        {
          "output_type": "stream",
          "name": "stdout",
          "text": [
            "0.7335907340049743\n"
          ]
        }
      ]
    },
    {
      "cell_type": "markdown",
      "source": [
        "Recordando el modelo de Regresión Logística, cuando usamos la función de StepAic, el modelo se redujo a 11 variables predictoras, vamos a realizar una prueba este modelo probando sólo con esas variables significativas:"
      ],
      "metadata": {
        "id": "g2FDE8b98FvL"
      }
    },
    {
      "cell_type": "code",
      "source": [
        "train = pd.read_csv(\"train_norm.csv\") \n",
        "train = train[[\"tasa_rep_carga\",\"quintil_asig\",\"ceneval_analitico\",\"ceneval_matematico\",\"prom_per_prev\",\"tasa_rep_doc\",\"complejidad_carga5\",\"recursada\",\"asigMuchas\",\"semestre_Otoño\",\"situacion_Irregular\",\"carga_aprobada\"]]"
      ],
      "metadata": {
        "id": "UMuuKDgo-ykE"
      },
      "execution_count": 30,
      "outputs": []
    },
    {
      "cell_type": "code",
      "source": [
        "y_train_significativas = train.loc[:,train.columns == \"carga_aprobada\"]\n",
        "x_train_significativas = train.loc[:, train.columns != 'carga_aprobada']"
      ],
      "metadata": {
        "id": "jWMlHjte_BPS"
      },
      "execution_count": 31,
      "outputs": []
    },
    {
      "cell_type": "code",
      "source": [
        "test = pd.read_csv(\"test_norm.csv\") \n",
        "test = test[[\"tasa_rep_carga\",\"quintil_asig\",\"ceneval_analitico\",\"ceneval_matematico\",\"prom_per_prev\",\"tasa_rep_doc\",\"complejidad_carga5\",\"recursada\",\"asigMuchas\",\"semestre_Otoño\",\"situacion_Irregular\",\"carga_aprobada\"]]"
      ],
      "metadata": {
        "id": "z8pp7LN2_QYS"
      },
      "execution_count": 32,
      "outputs": []
    },
    {
      "cell_type": "code",
      "source": [
        "y_test_significativas = test.loc[:,test.columns == \"carga_aprobada\"]\n",
        "x_test_significativas = test.loc[:, test.columns != 'carga_aprobada']"
      ],
      "metadata": {
        "id": "GCQoX_UN_SfM"
      },
      "execution_count": 33,
      "outputs": []
    },
    {
      "cell_type": "markdown",
      "source": [
        "Volviendo hacer el modelo. "
      ],
      "metadata": {
        "id": "Hr1clJAzAYbQ"
      }
    },
    {
      "cell_type": "code",
      "source": [
        "def create_model2():\n",
        "  model3_1 = Sequential()\n",
        "  #Notese que ahora cambiamos las variables ingresadas a la capa\n",
        "  model3_1.add(Dense(64, input_shape=(x_train_significativas.shape[1],), activation='relu'))\n",
        "  model3_1.add(Dense(32, activation='relu'))\n",
        "  model3_1.add(Dense(16, activation='relu'))\n",
        "  #model3.add(Dense(12, activation='relu'))\n",
        "  model3_1.add(Dense(1, activation='sigmoid'))\n",
        "  model3_1.compile(optimizer=\"adam\", loss='binary_crossentropy', metrics=[\"accuracy\"])\n",
        "  return model3_1"
      ],
      "metadata": {
        "id": "eGIE4jxeA1ly"
      },
      "execution_count": null,
      "outputs": []
    },
    {
      "cell_type": "code",
      "source": [
        "model3_2 = KerasClassifier(build_fn=create_model2, epochs=20, verbose=0, batch_size=10)"
      ],
      "metadata": {
        "colab": {
          "base_uri": "https://localhost:8080/"
        },
        "id": "D8TnZ3sMAWJk",
        "outputId": "c67aa76b-d85f-47e2-f1a6-ea8c47e1c3d8"
      },
      "execution_count": null,
      "outputs": [
        {
          "output_type": "stream",
          "name": "stderr",
          "text": [
            "/usr/local/lib/python3.7/dist-packages/ipykernel_launcher.py:1: DeprecationWarning: KerasClassifier is deprecated, use Sci-Keras (https://github.com/adriangb/scikeras) instead. See https://www.adriangb.com/scikeras/stable/migration.html for help migrating.\n",
            "  \"\"\"Entry point for launching an IPython kernel.\n"
          ]
        }
      ]
    },
    {
      "cell_type": "code",
      "source": [
        "kfold = StratifiedKFold(n_splits=10, shuffle=True)"
      ],
      "metadata": {
        "id": "b6yrP3BkAihN"
      },
      "execution_count": null,
      "outputs": []
    },
    {
      "cell_type": "markdown",
      "source": [
        "RESULTADO DE MODELO CONSIDERANDO SÓLO LAS VARIABLES SIGNIFICATIVAS:"
      ],
      "metadata": {
        "id": "TUZw4JAJ3EiM"
      }
    },
    {
      "cell_type": "code",
      "source": [
        "results = cross_val_score(model3_2, x_train_significativas, y_train_significativas, cv=kfold)\n",
        "print(results)"
      ],
      "metadata": {
        "colab": {
          "base_uri": "https://localhost:8080/"
        },
        "id": "o9R25HRl3SuB",
        "outputId": "482af103-5afe-48e5-c560-105d1fef5d23"
      },
      "execution_count": null,
      "outputs": [
        {
          "output_type": "stream",
          "name": "stdout",
          "text": [
            "[0.71428573 0.72527474 0.69230771 0.69230771 0.80219781 0.70329672\n",
            " 0.66666669 0.77777779 0.71111113 0.74444443]\n"
          ]
        }
      ]
    },
    {
      "cell_type": "code",
      "source": [
        "#SACANDO EL PROMEDIO\n",
        "print(results.mean())"
      ],
      "metadata": {
        "colab": {
          "base_uri": "https://localhost:8080/"
        },
        "id": "oyI0RU2O390v",
        "outputId": "bc81071f-acbf-433b-ece8-9ddd6eca033d"
      },
      "execution_count": null,
      "outputs": [
        {
          "output_type": "stream",
          "name": "stdout",
          "text": [
            "0.7229670464992524\n"
          ]
        }
      ]
    },
    {
      "cell_type": "markdown",
      "source": [
        "CONCLUSIÓN: Vemos que la precisión no cambia mucho cuando consideramos sólo las variables significativas, pero al considerar este modelo esto podría hacer que sea más eficiente al agregar menos variables al momento de predecir. Por lo tanto, se escoge este modelo. \n",
        "\n",
        "Recordar que el modelo final de regresión Logística también tiene las mismas variables que este modelo."
      ],
      "metadata": {
        "id": "2EVCyDb96BP4"
      }
    },
    {
      "cell_type": "markdown",
      "source": [
        "## red Neuronal 4 "
      ],
      "metadata": {
        "id": "bv01Dm3gdNrL"
      }
    },
    {
      "cell_type": "code",
      "source": [
        "from keras.optimizers import Adadelta, RMSprop,Adam"
      ],
      "metadata": {
        "id": "vFp3EvWHbYtU"
      },
      "execution_count": null,
      "outputs": []
    },
    {
      "cell_type": "code",
      "source": [
        "model4 = Sequential()\n",
        "model4.add(Dense(64, input_shape=(x_train_significativas.shape[1],), activation='relu'))\n",
        "#model4.add(Dense(32, activation='relu'))\n",
        "model4.add(Dense(16, activation='relu'))\n",
        "model4.add(Dense(1, activation='sigmoid'))"
      ],
      "metadata": {
        "id": "aBvRbykhdabf"
      },
      "execution_count": 38,
      "outputs": []
    },
    {
      "cell_type": "code",
      "source": [
        "model4.compile(optimizer=\"Adam\", loss='binary_crossentropy', metrics=[\"accuracy\"])"
      ],
      "metadata": {
        "id": "-bkTA6AGds8-"
      },
      "execution_count": 39,
      "outputs": []
    },
    {
      "cell_type": "code",
      "source": [
        "history4 = model4.fit(x=x_train_significativas, y=y_train_significativas, verbose=0, epochs=20, validation_split=0.2)"
      ],
      "metadata": {
        "id": "hB6kDiOjdxud"
      },
      "execution_count": 40,
      "outputs": []
    },
    {
      "cell_type": "code",
      "source": [
        "plt.plot(range(20), history4.history[\"val_accuracy\"], \"r\", label=\"Validación\")\n",
        "plt.plot(range(20), history4.history[\"accuracy\"], \"b\", label = \"Entrenamiento\")\n",
        "plt.xlabel(\"Épocas\")\n",
        "plt.ylabel(\"Precisión\")\n",
        "plt.legend()\n",
        "plt.show()"
      ],
      "metadata": {
        "colab": {
          "base_uri": "https://localhost:8080/",
          "height": 281
        },
        "id": "8b5bBM7Ad9WV",
        "outputId": "dc440fb9-e53b-49bb-cfd6-ce70655412ef"
      },
      "execution_count": 41,
      "outputs": [
        {
          "output_type": "display_data",
          "data": {
            "text/plain": [
              "<Figure size 432x288 with 1 Axes>"
            ],
            "image/png": "[encoded data removed]"
          },
          "metadata": {
            "needs_background": "light"
          }
        }
      ]
    },
    {
      "cell_type": "code",
      "source": [
        "#plot_loss_accuracy(history)\n",
        "plt.plot(range(20), history4.history[\"val_loss\"], \"r\", label=\"Validación\")\n",
        "plt.plot(range(20), history4.history[\"loss\"], \"b\", label = \"Entrenamiento\")\n",
        "plt.xlabel(\"Épocas\")\n",
        "plt.ylabel(\"Error absoluto medio\")\n",
        "plt.legend()\n",
        "plt.show()"
      ],
      "metadata": {
        "colab": {
          "base_uri": "https://localhost:8080/",
          "height": 281
        },
        "id": "D-vswWEFzJas",
        "outputId": "d96c9761-e99f-44d1-9a78-9c5b02a6e5d4"
      },
      "execution_count": 42,
      "outputs": [
        {
          "output_type": "display_data",
          "data": {
            "text/plain": [
              "<Figure size 432x288 with 1 Axes>"
            ],
            "image/png": "[encoded data removed]"
          },
          "metadata": {
            "needs_background": "light"
          }
        }
      ]
    },
    {
      "cell_type": "code",
      "source": [
        "y_pred =  (model4.predict(x_test_significativas) > 0.5).astype(\"int32\")\n",
        "print(classification_report(y_test2, y_pred))"
      ],
      "metadata": {
        "id": "Z4MrK5OPeN2A",
        "colab": {
          "base_uri": "https://localhost:8080/"
        },
        "outputId": "2e2b01d0-920f-4b77-e703-765cd9a6665a"
      },
      "execution_count": 43,
      "outputs": [
        {
          "output_type": "stream",
          "name": "stdout",
          "text": [
            "13/13 [==============================] - 0s 3ms/step\n",
            "              precision    recall  f1-score   support\n",
            "\n",
            "           0       0.81      0.81      0.81       240\n",
            "           1       0.69      0.69      0.69       149\n",
            "\n",
            "    accuracy                           0.76       389\n",
            "   macro avg       0.75      0.75      0.75       389\n",
            "weighted avg       0.76      0.76      0.76       389\n",
            "\n"
          ]
        }
      ]
    },
    {
      "cell_type": "code",
      "source": [
        "plot_confusion_matrix(model4, x_test_significativas, y_test_significativas)"
      ],
      "metadata": {
        "colab": {
          "base_uri": "https://localhost:8080/",
          "height": 391
        },
        "id": "rfdtUWfq1CKw",
        "outputId": "fe992c65-1c8e-42ba-bcda-543d9742a347"
      },
      "execution_count": 45,
      "outputs": [
        {
          "output_type": "stream",
          "name": "stdout",
          "text": [
            "13/13 [==============================] - 0s 2ms/step\n"
          ]
        },
        {
          "output_type": "display_data",
          "data": {
            "text/plain": [
              "<Figure size 576x432 with 2 Axes>"
            ],
            "image/png": "[encoded data removed]"
          },
          "metadata": {
            "needs_background": "light"
          }
        }
      ]
    },
    {
      "cell_type": "markdown",
      "source": [
        "Predecimos erróneamente 89 registros de 389."
      ],
      "metadata": {
        "id": "h2njqkWbDKsQ"
      }
    },
    {
      "cell_type": "markdown",
      "source": [
        "Como podemos observar la mejor red neuronal ha sido la 4 y además comparando este modelo con el de regresión logística también es mejor."
      ],
      "metadata": {
        "id": "RG3mZrQR0GB6"
      }
    },
    {
      "cell_type": "markdown",
      "source": [
        "## red Neuronal 4.1 Validación Cruzada"
      ],
      "metadata": {
        "id": "3Sx7vC_KED3A"
      }
    },
    {
      "cell_type": "markdown",
      "source": [
        "Modelo 4.1 contiene todas las variables.Es decir, las 16 variables normalizadas."
      ],
      "metadata": {
        "id": "CuF2F-X8E9cD"
      }
    },
    {
      "cell_type": "code",
      "source": [
        "def create_model4_1():\n",
        "  model4_1 = Sequential()\n",
        "  model4_1.add(Dense(64, input_shape=(dat_x_train.shape[1],), activation='relu'))\n",
        "  model4_1.add(Dense(16, activation='relu'))\n",
        "  model4_1.add(Dense(1, activation='sigmoid'))\n",
        "  model4_1.compile(optimizer=\"adam\", loss='binary_crossentropy', metrics=[\"accuracy\"])\n",
        "  return model4_1"
      ],
      "metadata": {
        "id": "PNFQJV7lEJCZ"
      },
      "execution_count": 15,
      "outputs": []
    },
    {
      "cell_type": "code",
      "source": [
        "model4_1 = KerasClassifier(build_fn=create_model4_1, epochs=20, verbose=0, batch_size=10)"
      ],
      "metadata": {
        "colab": {
          "base_uri": "https://localhost:8080/"
        },
        "id": "XjpWe9wOFbD5",
        "outputId": "e1847053-02da-4433-8b72-bee50300288b"
      },
      "execution_count": 16,
      "outputs": [
        {
          "output_type": "stream",
          "name": "stderr",
          "text": [
            "/usr/local/lib/python3.7/dist-packages/ipykernel_launcher.py:1: DeprecationWarning: KerasClassifier is deprecated, use Sci-Keras (https://github.com/adriangb/scikeras) instead. See https://www.adriangb.com/scikeras/stable/migration.html for help migrating.\n",
            "  \"\"\"Entry point for launching an IPython kernel.\n"
          ]
        }
      ]
    },
    {
      "cell_type": "code",
      "source": [
        "kfold = StratifiedKFold(n_splits=10, shuffle=True)"
      ],
      "metadata": {
        "id": "M_qX9k-3FuDH"
      },
      "execution_count": 17,
      "outputs": []
    },
    {
      "cell_type": "code",
      "source": [
        "results = cross_val_score(model4_1, dat_x_train, dat_y_train, cv=kfold)\n",
        "print(results)"
      ],
      "metadata": {
        "colab": {
          "base_uri": "https://localhost:8080/"
        },
        "id": "QNCT4WKbFzbh",
        "outputId": "ddbddef9-eb99-4b2a-b760-54c658ead038"
      },
      "execution_count": 18,
      "outputs": [
        {
          "output_type": "stream",
          "name": "stdout",
          "text": [
            "[0.76923078 0.76923078 0.81538463 0.6769231  0.6769231  0.7364341\n",
            " 0.75193799 0.75968993 0.77519381 0.7364341 ]\n"
          ]
        }
      ]
    },
    {
      "cell_type": "code",
      "source": [
        "print(results.mean())"
      ],
      "metadata": {
        "colab": {
          "base_uri": "https://localhost:8080/"
        },
        "id": "a7eF8uZ8G93e",
        "outputId": "3a940449-c4e2-4c59-862c-5e1dc6c39798"
      },
      "execution_count": 19,
      "outputs": [
        {
          "output_type": "stream",
          "name": "stdout",
          "text": [
            "0.7467382311820984\n"
          ]
        }
      ]
    },
    {
      "cell_type": "markdown",
      "source": [
        "Ahora probemos con las variables más significativas como en la red neuronal 3.1"
      ],
      "metadata": {
        "id": "Ah5kyzzGJqZL"
      }
    },
    {
      "cell_type": "code",
      "source": [
        "dat_train = datos[[\"tasa_rep_carga\",\"quintil_asig\",\"ceneval_analitico\",\"ceneval_matematico\",\"prom_per_prev\",\"tasa_rep_doc\",\"complejidad_carga5\",\"recursada\",\"asigMuchas\",\"semestre_Otoño\",\"situacion_Irregular\",\"carga_aprobada\"]]\n",
        "dat_y_train_significativas = datos.loc[:,datos.columns == \"carga_aprobada\"]\n",
        "dat_x_train_significativas = datos.loc[:, datos.columns != 'carga_aprobada']"
      ],
      "metadata": {
        "id": "qutvsMTVBXN7"
      },
      "execution_count": 23,
      "outputs": []
    },
    {
      "cell_type": "code",
      "source": [
        "def create_model4_2():\n",
        "  model4_2 = Sequential()\n",
        "  #Notese que ahora las variables de entradas son las más significativas\n",
        "  model4_2.add(Dense(64, input_shape=(dat_x_train_significativas.shape[1],), activation='relu'))\n",
        "  model4_2.add(Dense(16, activation='relu'))\n",
        "  model4_2.add(Dense(1, activation='sigmoid'))\n",
        "  model4_2.compile(optimizer=\"adam\", loss='binary_crossentropy', metrics=[\"accuracy\"])\n",
        "  return model4_2"
      ],
      "metadata": {
        "id": "K1Rf86U7Jw8Y"
      },
      "execution_count": 25,
      "outputs": []
    },
    {
      "cell_type": "code",
      "source": [
        "model4_2 = KerasClassifier(build_fn=create_model4_2, epochs=20, verbose=0, batch_size=10)"
      ],
      "metadata": {
        "colab": {
          "base_uri": "https://localhost:8080/"
        },
        "id": "KUhmjg09Mz-1",
        "outputId": "a538f754-a468-4aa4-8659-ef82a2844351"
      },
      "execution_count": 26,
      "outputs": [
        {
          "output_type": "stream",
          "name": "stderr",
          "text": [
            "/usr/local/lib/python3.7/dist-packages/ipykernel_launcher.py:1: DeprecationWarning: KerasClassifier is deprecated, use Sci-Keras (https://github.com/adriangb/scikeras) instead. See https://www.adriangb.com/scikeras/stable/migration.html for help migrating.\n",
            "  \"\"\"Entry point for launching an IPython kernel.\n"
          ]
        }
      ]
    },
    {
      "cell_type": "code",
      "source": [
        "kfold = StratifiedKFold(n_splits=10, shuffle=True)"
      ],
      "metadata": {
        "id": "wPaFZfVoM8rE"
      },
      "execution_count": 27,
      "outputs": []
    },
    {
      "cell_type": "code",
      "source": [
        "results = cross_val_score(model4_2, dat_x_train_significativas, dat_y_train_significativas, cv=kfold)\n",
        "print(results)"
      ],
      "metadata": {
        "colab": {
          "base_uri": "https://localhost:8080/"
        },
        "id": "DluNXFIJNCSu",
        "outputId": "317c1ff3-7e71-4721-9a40-4d8bf7d8d50d"
      },
      "execution_count": 28,
      "outputs": [
        {
          "output_type": "stream",
          "name": "stdout",
          "text": [
            "[0.76153845 0.73846155 0.73076922 0.75384617 0.73076922 0.75193799\n",
            " 0.72868216 0.75968993 0.74418604 0.70542634]\n"
          ]
        }
      ]
    },
    {
      "cell_type": "code",
      "source": [
        "print(results.mean())"
      ],
      "metadata": {
        "colab": {
          "base_uri": "https://localhost:8080/"
        },
        "id": "MHEg-u1XNSoL",
        "outputId": "c45c19e0-38a6-497d-8c7e-d32cc2a3904e"
      },
      "execution_count": 29,
      "outputs": [
        {
          "output_type": "stream",
          "name": "stdout",
          "text": [
            "0.7405307054519653\n"
          ]
        }
      ]
    },
    {
      "cell_type": "markdown",
      "source": [
        "CONCLUSIÓN: La red Neuronal 4 y 4.1 fueron las mejores en presición y F1-SCORE, por lo tanto usaremos este modelo. Se decide usar el modelo sólo con las variables más significativas ya que al ingresar las 16 variables la precisión es prácticamente la misma que si sólo están las más importantes. "
      ],
      "metadata": {
        "id": "riUwmD62QXRQ"
      }
    },
    {
      "cell_type": "markdown",
      "source": [
        "## Exportando"
      ],
      "metadata": {
        "id": "sqObgia58_VY"
      }
    },
    {
      "cell_type": "code",
      "source": [
        "from keras.models import load_model \n",
        "load_model = model4.save('Neural_Networks.h5')\n",
        "#model_final = load_model('model.h5')"
      ],
      "metadata": {
        "id": "wflu0HT39BBS"
      },
      "execution_count": 46,
      "outputs": []
    },
    {
      "cell_type": "code",
      "source": [
        "#CARGANDO EL MODELO\n",
        "model_final = keras.models.load_model(\"Neural_Networks.h5\")"
      ],
      "metadata": {
        "id": "pPTxLro29sLG"
      },
      "execution_count": 47,
      "outputs": []
    },
    {
      "cell_type": "code",
      "source": [
        "#PREDICIENDO CON EL MODELO\n",
        "(model_final.predict(x_train_significativas) > 0.5).astype(\"int32\")"
      ],
      "metadata": {
        "colab": {
          "base_uri": "https://localhost:8080/"
        },
        "id": "9LrIvcra-Set",
        "outputId": "cabf60c2-3925-449e-baff-40295d53f3a1"
      },
      "execution_count": 49,
      "outputs": [
        {
          "output_type": "stream",
          "name": "stdout",
          "text": [
            "29/29 [==============================] - 0s 4ms/step\n"
          ]
        },
        {
          "output_type": "execute_result",
          "data": {
            "text/plain": [
              "array([[0],\n",
              "       [0],\n",
              "       [0],\n",
              "       [0],\n",
              "       [0],\n",
              "       [1],\n",
              "       [1],\n",
              "       [1],\n",
              "       [0],\n",
              "       [0],\n",
              "       [0],\n",
              "       [0],\n",
              "       [0],\n",
              "       [0],\n",
              "       [0],\n",
              "       [1],\n",
              "       [1],\n",
              "       [0],\n",
              "       [0],\n",
              "       [0],\n",
              "       [0],\n",
              "       [1],\n",
              "       [1],\n",
              "       [0],\n",
              "       [0],\n",
              "       [0],\n",
              "       [0],\n",
              "       [0],\n",
              "       [1],\n",
              "       [0],\n",
              "       [1],\n",
              "       [0],\n",
              "       [0],\n",
              "       [0],\n",
              "       [0],\n",
              "       [1],\n",
              "       [0],\n",
              "       [1],\n",
              "       [1],\n",
              "       [0],\n",
              "       [0],\n",
              "       [0],\n",
              "       [1],\n",
              "       [0],\n",
              "       [0],\n",
              "       [1],\n",
              "       [1],\n",
              "       [1],\n",
              "       [0],\n",
              "       [0],\n",
              "       [0],\n",
              "       [0],\n",
              "       [0],\n",
              "       [1],\n",
              "       [0],\n",
              "       [0],\n",
              "       [0],\n",
              "       [0],\n",
              "       [1],\n",
              "       [1],\n",
              "       [0],\n",
              "       [0],\n",
              "       [1],\n",
              "       [1],\n",
              "       [1],\n",
              "       [1],\n",
              "       [0],\n",
              "       [0],\n",
              "       [1],\n",
              "       [0],\n",
              "       [0],\n",
              "       [0],\n",
              "       [0],\n",
              "       [0],\n",
              "       [0],\n",
              "       [0],\n",
              "       [0],\n",
              "       [1],\n",
              "       [1],\n",
              "       [0],\n",
              "       [0],\n",
              "       [1],\n",
              "       [0],\n",
              "       [1],\n",
              "       [0],\n",
              "       [1],\n",
              "       [1],\n",
              "       [0],\n",
              "       [0],\n",
              "       [1],\n",
              "       [1],\n",
              "       [0],\n",
              "       [0],\n",
              "       [0],\n",
              "       [0],\n",
              "       [1],\n",
              "       [0],\n",
              "       [1],\n",
              "       [1],\n",
              "       [0],\n",
              "       [0],\n",
              "       [0],\n",
              "       [1],\n",
              "       [0],\n",
              "       [1],\n",
              "       [0],\n",
              "       [0],\n",
              "       [0],\n",
              "       [1],\n",
              "       [1],\n",
              "       [1],\n",
              "       [0],\n",
              "       [0],\n",
              "       [0],\n",
              "       [0],\n",
              "       [0],\n",
              "       [0],\n",
              "       [0],\n",
              "       [1],\n",
              "       [1],\n",
              "       [0],\n",
              "       [0],\n",
              "       [0],\n",
              "       [0],\n",
              "       [1],\n",
              "       [0],\n",
              "       [1],\n",
              "       [0],\n",
              "       [1],\n",
              "       [0],\n",
              "       [0],\n",
              "       [0],\n",
              "       [1],\n",
              "       [0],\n",
              "       [0],\n",
              "       [0],\n",
              "       [1],\n",
              "       [1],\n",
              "       [1],\n",
              "       [1],\n",
              "       [1],\n",
              "       [0],\n",
              "       [1],\n",
              "       [1],\n",
              "       [1],\n",
              "       [0],\n",
              "       [0],\n",
              "       [0],\n",
              "       [0],\n",
              "       [0],\n",
              "       [0],\n",
              "       [0],\n",
              "       [0],\n",
              "       [1],\n",
              "       [1],\n",
              "       [0],\n",
              "       [0],\n",
              "       [1],\n",
              "       [1],\n",
              "       [1],\n",
              "       [1],\n",
              "       [1],\n",
              "       [0],\n",
              "       [0],\n",
              "       [0],\n",
              "       [1],\n",
              "       [0],\n",
              "       [0],\n",
              "       [1],\n",
              "       [0],\n",
              "       [1],\n",
              "       [1],\n",
              "       [0],\n",
              "       [1],\n",
              "       [1],\n",
              "       [0],\n",
              "       [0],\n",
              "       [0],\n",
              "       [0],\n",
              "       [1],\n",
              "       [0],\n",
              "       [0],\n",
              "       [0],\n",
              "       [1],\n",
              "       [0],\n",
              "       [1],\n",
              "       [1],\n",
              "       [0],\n",
              "       [1],\n",
              "       [0],\n",
              "       [1],\n",
              "       [1],\n",
              "       [1],\n",
              "       [0],\n",
              "       [0],\n",
              "       [1],\n",
              "       [0],\n",
              "       [0],\n",
              "       [0],\n",
              "       [0],\n",
              "       [0],\n",
              "       [0],\n",
              "       [0],\n",
              "       [0],\n",
              "       [0],\n",
              "       [0],\n",
              "       [0],\n",
              "       [1],\n",
              "       [1],\n",
              "       [1],\n",
              "       [0],\n",
              "       [1],\n",
              "       [0],\n",
              "       [0],\n",
              "       [0],\n",
              "       [1],\n",
              "       [1],\n",
              "       [0],\n",
              "       [1],\n",
              "       [0],\n",
              "       [0],\n",
              "       [0],\n",
              "       [0],\n",
              "       [1],\n",
              "       [1],\n",
              "       [0],\n",
              "       [0],\n",
              "       [1],\n",
              "       [0],\n",
              "       [0],\n",
              "       [0],\n",
              "       [0],\n",
              "       [0],\n",
              "       [1],\n",
              "       [0],\n",
              "       [1],\n",
              "       [1],\n",
              "       [0],\n",
              "       [1],\n",
              "       [0],\n",
              "       [0],\n",
              "       [0],\n",
              "       [1],\n",
              "       [1],\n",
              "       [1],\n",
              "       [0],\n",
              "       [1],\n",
              "       [0],\n",
              "       [0],\n",
              "       [0],\n",
              "       [0],\n",
              "       [0],\n",
              "       [1],\n",
              "       [0],\n",
              "       [1],\n",
              "       [1],\n",
              "       [0],\n",
              "       [0],\n",
              "       [0],\n",
              "       [0],\n",
              "       [0],\n",
              "       [0],\n",
              "       [1],\n",
              "       [0],\n",
              "       [0],\n",
              "       [0],\n",
              "       [0],\n",
              "       [1],\n",
              "       [0],\n",
              "       [0],\n",
              "       [0],\n",
              "       [0],\n",
              "       [0],\n",
              "       [0],\n",
              "       [1],\n",
              "       [0],\n",
              "       [0],\n",
              "       [0],\n",
              "       [1],\n",
              "       [0],\n",
              "       [0],\n",
              "       [1],\n",
              "       [0],\n",
              "       [0],\n",
              "       [1],\n",
              "       [1],\n",
              "       [1],\n",
              "       [1],\n",
              "       [0],\n",
              "       [1],\n",
              "       [0],\n",
              "       [1],\n",
              "       [0],\n",
              "       [1],\n",
              "       [1],\n",
              "       [0],\n",
              "       [0],\n",
              "       [1],\n",
              "       [0],\n",
              "       [1],\n",
              "       [0],\n",
              "       [0],\n",
              "       [0],\n",
              "       [0],\n",
              "       [1],\n",
              "       [0],\n",
              "       [0],\n",
              "       [1],\n",
              "       [0],\n",
              "       [0],\n",
              "       [1],\n",
              "       [0],\n",
              "       [1],\n",
              "       [0],\n",
              "       [1],\n",
              "       [0],\n",
              "       [0],\n",
              "       [0],\n",
              "       [1],\n",
              "       [0],\n",
              "       [0],\n",
              "       [0],\n",
              "       [0],\n",
              "       [1],\n",
              "       [0],\n",
              "       [0],\n",
              "       [0],\n",
              "       [0],\n",
              "       [0],\n",
              "       [0],\n",
              "       [0],\n",
              "       [1],\n",
              "       [1],\n",
              "       [0],\n",
              "       [1],\n",
              "       [0],\n",
              "       [1],\n",
              "       [0],\n",
              "       [1],\n",
              "       [1],\n",
              "       [0],\n",
              "       [1],\n",
              "       [0],\n",
              "       [0],\n",
              "       [0],\n",
              "       [0],\n",
              "       [0],\n",
              "       [0],\n",
              "       [0],\n",
              "       [0],\n",
              "       [1],\n",
              "       [0],\n",
              "       [1],\n",
              "       [0],\n",
              "       [1],\n",
              "       [0],\n",
              "       [0],\n",
              "       [0],\n",
              "       [0],\n",
              "       [0],\n",
              "       [1],\n",
              "       [1],\n",
              "       [0],\n",
              "       [1],\n",
              "       [1],\n",
              "       [1],\n",
              "       [1],\n",
              "       [0],\n",
              "       [0],\n",
              "       [0],\n",
              "       [0],\n",
              "       [0],\n",
              "       [1],\n",
              "       [0],\n",
              "       [1],\n",
              "       [1],\n",
              "       [1],\n",
              "       [1],\n",
              "       [0],\n",
              "       [1],\n",
              "       [1],\n",
              "       [0],\n",
              "       [0],\n",
              "       [0],\n",
              "       [0],\n",
              "       [0],\n",
              "       [1],\n",
              "       [0],\n",
              "       [1],\n",
              "       [1],\n",
              "       [0],\n",
              "       [1],\n",
              "       [0],\n",
              "       [0],\n",
              "       [1],\n",
              "       [0],\n",
              "       [0],\n",
              "       [1],\n",
              "       [1],\n",
              "       [1],\n",
              "       [0],\n",
              "       [0],\n",
              "       [0],\n",
              "       [0],\n",
              "       [1],\n",
              "       [1],\n",
              "       [1],\n",
              "       [0],\n",
              "       [0],\n",
              "       [0],\n",
              "       [0],\n",
              "       [1],\n",
              "       [0],\n",
              "       [1],\n",
              "       [1],\n",
              "       [0],\n",
              "       [0],\n",
              "       [0],\n",
              "       [1],\n",
              "       [1],\n",
              "       [0],\n",
              "       [0],\n",
              "       [0],\n",
              "       [0],\n",
              "       [0],\n",
              "       [1],\n",
              "       [1],\n",
              "       [0],\n",
              "       [1],\n",
              "       [0],\n",
              "       [0],\n",
              "       [0],\n",
              "       [0],\n",
              "       [0],\n",
              "       [0],\n",
              "       [1],\n",
              "       [1],\n",
              "       [1],\n",
              "       [0],\n",
              "       [0],\n",
              "       [0],\n",
              "       [0],\n",
              "       [0],\n",
              "       [0],\n",
              "       [1],\n",
              "       [1],\n",
              "       [0],\n",
              "       [1],\n",
              "       [0],\n",
              "       [1],\n",
              "       [0],\n",
              "       [0],\n",
              "       [0],\n",
              "       [1],\n",
              "       [0],\n",
              "       [1],\n",
              "       [0],\n",
              "       [0],\n",
              "       [1],\n",
              "       [0],\n",
              "       [0],\n",
              "       [0],\n",
              "       [1],\n",
              "       [1],\n",
              "       [0],\n",
              "       [0],\n",
              "       [0],\n",
              "       [0],\n",
              "       [0],\n",
              "       [0],\n",
              "       [1],\n",
              "       [1],\n",
              "       [1],\n",
              "       [1],\n",
              "       [1],\n",
              "       [0],\n",
              "       [0],\n",
              "       [1],\n",
              "       [0],\n",
              "       [0],\n",
              "       [1],\n",
              "       [0],\n",
              "       [0],\n",
              "       [0],\n",
              "       [0],\n",
              "       [0],\n",
              "       [0],\n",
              "       [1],\n",
              "       [1],\n",
              "       [0],\n",
              "       [0],\n",
              "       [0],\n",
              "       [0],\n",
              "       [0],\n",
              "       [0],\n",
              "       [1],\n",
              "       [1],\n",
              "       [0],\n",
              "       [0],\n",
              "       [1],\n",
              "       [0],\n",
              "       [0],\n",
              "       [0],\n",
              "       [0],\n",
              "       [0],\n",
              "       [0],\n",
              "       [1],\n",
              "       [0],\n",
              "       [0],\n",
              "       [1],\n",
              "       [0],\n",
              "       [0],\n",
              "       [0],\n",
              "       [1],\n",
              "       [0],\n",
              "       [0],\n",
              "       [1],\n",
              "       [1],\n",
              "       [1],\n",
              "       [1],\n",
              "       [0],\n",
              "       [0],\n",
              "       [1],\n",
              "       [0],\n",
              "       [1],\n",
              "       [0],\n",
              "       [1],\n",
              "       [0],\n",
              "       [0],\n",
              "       [0],\n",
              "       [0],\n",
              "       [0],\n",
              "       [1],\n",
              "       [0],\n",
              "       [1],\n",
              "       [0],\n",
              "       [1],\n",
              "       [0],\n",
              "       [0],\n",
              "       [1],\n",
              "       [0],\n",
              "       [0],\n",
              "       [0],\n",
              "       [0],\n",
              "       [0],\n",
              "       [0],\n",
              "       [0],\n",
              "       [1],\n",
              "       [0],\n",
              "       [0],\n",
              "       [1],\n",
              "       [0],\n",
              "       [0],\n",
              "       [1],\n",
              "       [1],\n",
              "       [1],\n",
              "       [1],\n",
              "       [1],\n",
              "       [1],\n",
              "       [0],\n",
              "       [0],\n",
              "       [0],\n",
              "       [0],\n",
              "       [0],\n",
              "       [1],\n",
              "       [0],\n",
              "       [0],\n",
              "       [0],\n",
              "       [0],\n",
              "       [1],\n",
              "       [1],\n",
              "       [1],\n",
              "       [1],\n",
              "       [0],\n",
              "       [1],\n",
              "       [1],\n",
              "       [1],\n",
              "       [1],\n",
              "       [0],\n",
              "       [0],\n",
              "       [0],\n",
              "       [1],\n",
              "       [1],\n",
              "       [0],\n",
              "       [0],\n",
              "       [0],\n",
              "       [0],\n",
              "       [0],\n",
              "       [1],\n",
              "       [1],\n",
              "       [0],\n",
              "       [0],\n",
              "       [0],\n",
              "       [0],\n",
              "       [0],\n",
              "       [1],\n",
              "       [1],\n",
              "       [1],\n",
              "       [0],\n",
              "       [0],\n",
              "       [0],\n",
              "       [0],\n",
              "       [1],\n",
              "       [0],\n",
              "       [1],\n",
              "       [1],\n",
              "       [0],\n",
              "       [0],\n",
              "       [1],\n",
              "       [1],\n",
              "       [1],\n",
              "       [1],\n",
              "       [0],\n",
              "       [0],\n",
              "       [0],\n",
              "       [0],\n",
              "       [1],\n",
              "       [0],\n",
              "       [1],\n",
              "       [0],\n",
              "       [0],\n",
              "       [1],\n",
              "       [0],\n",
              "       [0],\n",
              "       [0],\n",
              "       [0],\n",
              "       [1],\n",
              "       [0],\n",
              "       [0],\n",
              "       [0],\n",
              "       [0],\n",
              "       [1],\n",
              "       [0],\n",
              "       [0],\n",
              "       [0],\n",
              "       [1],\n",
              "       [0],\n",
              "       [0],\n",
              "       [1],\n",
              "       [0],\n",
              "       [0],\n",
              "       [1],\n",
              "       [1],\n",
              "       [0],\n",
              "       [0],\n",
              "       [1],\n",
              "       [0],\n",
              "       [0],\n",
              "       [1],\n",
              "       [0],\n",
              "       [0],\n",
              "       [1],\n",
              "       [0],\n",
              "       [1],\n",
              "       [1],\n",
              "       [1],\n",
              "       [0],\n",
              "       [1],\n",
              "       [0],\n",
              "       [1],\n",
              "       [1],\n",
              "       [0],\n",
              "       [0],\n",
              "       [0],\n",
              "       [1],\n",
              "       [1],\n",
              "       [0],\n",
              "       [0],\n",
              "       [0],\n",
              "       [0],\n",
              "       [0],\n",
              "       [1],\n",
              "       [0],\n",
              "       [0],\n",
              "       [0],\n",
              "       [0],\n",
              "       [1],\n",
              "       [1],\n",
              "       [0],\n",
              "       [1],\n",
              "       [0],\n",
              "       [0],\n",
              "       [0],\n",
              "       [0],\n",
              "       [0],\n",
              "       [0],\n",
              "       [0],\n",
              "       [0],\n",
              "       [1],\n",
              "       [1],\n",
              "       [0],\n",
              "       [1],\n",
              "       [1],\n",
              "       [0],\n",
              "       [1],\n",
              "       [1],\n",
              "       [0],\n",
              "       [0],\n",
              "       [0],\n",
              "       [0],\n",
              "       [0],\n",
              "       [1],\n",
              "       [0],\n",
              "       [1],\n",
              "       [0],\n",
              "       [0],\n",
              "       [0],\n",
              "       [1],\n",
              "       [0],\n",
              "       [1],\n",
              "       [0],\n",
              "       [0],\n",
              "       [0],\n",
              "       [0],\n",
              "       [0],\n",
              "       [0],\n",
              "       [1],\n",
              "       [0],\n",
              "       [1],\n",
              "       [1],\n",
              "       [0],\n",
              "       [0],\n",
              "       [0],\n",
              "       [0],\n",
              "       [0],\n",
              "       [0],\n",
              "       [1],\n",
              "       [1],\n",
              "       [1],\n",
              "       [1],\n",
              "       [1],\n",
              "       [0],\n",
              "       [0],\n",
              "       [0],\n",
              "       [1],\n",
              "       [0],\n",
              "       [0],\n",
              "       [0],\n",
              "       [1],\n",
              "       [0],\n",
              "       [0],\n",
              "       [0],\n",
              "       [0],\n",
              "       [1],\n",
              "       [1],\n",
              "       [0],\n",
              "       [0],\n",
              "       [0],\n",
              "       [1],\n",
              "       [0],\n",
              "       [1],\n",
              "       [0],\n",
              "       [0],\n",
              "       [1],\n",
              "       [0],\n",
              "       [0],\n",
              "       [0],\n",
              "       [1],\n",
              "       [0],\n",
              "       [1],\n",
              "       [0],\n",
              "       [0],\n",
              "       [0],\n",
              "       [1],\n",
              "       [0],\n",
              "       [0],\n",
              "       [0],\n",
              "       [0],\n",
              "       [1],\n",
              "       [1],\n",
              "       [1],\n",
              "       [1],\n",
              "       [1],\n",
              "       [0],\n",
              "       [1],\n",
              "       [0],\n",
              "       [1],\n",
              "       [0],\n",
              "       [0],\n",
              "       [1],\n",
              "       [1],\n",
              "       [1],\n",
              "       [0],\n",
              "       [1],\n",
              "       [1],\n",
              "       [0],\n",
              "       [0],\n",
              "       [1],\n",
              "       [0],\n",
              "       [1],\n",
              "       [0],\n",
              "       [1],\n",
              "       [1],\n",
              "       [0],\n",
              "       [0],\n",
              "       [0],\n",
              "       [1],\n",
              "       [1],\n",
              "       [0],\n",
              "       [0],\n",
              "       [1],\n",
              "       [0],\n",
              "       [1],\n",
              "       [0],\n",
              "       [1],\n",
              "       [0],\n",
              "       [0],\n",
              "       [1],\n",
              "       [0],\n",
              "       [0],\n",
              "       [1],\n",
              "       [0],\n",
              "       [1],\n",
              "       [0],\n",
              "       [1],\n",
              "       [0],\n",
              "       [1],\n",
              "       [1],\n",
              "       [0],\n",
              "       [1],\n",
              "       [0],\n",
              "       [1],\n",
              "       [1],\n",
              "       [1],\n",
              "       [0],\n",
              "       [0],\n",
              "       [0],\n",
              "       [0],\n",
              "       [1],\n",
              "       [0],\n",
              "       [1],\n",
              "       [1],\n",
              "       [0],\n",
              "       [0],\n",
              "       [0],\n",
              "       [0],\n",
              "       [0],\n",
              "       [0],\n",
              "       [1],\n",
              "       [0],\n",
              "       [1],\n",
              "       [0],\n",
              "       [0],\n",
              "       [1],\n",
              "       [0],\n",
              "       [0],\n",
              "       [0],\n",
              "       [1],\n",
              "       [0],\n",
              "       [0],\n",
              "       [0],\n",
              "       [1],\n",
              "       [0],\n",
              "       [0],\n",
              "       [1],\n",
              "       [0],\n",
              "       [1],\n",
              "       [0],\n",
              "       [1],\n",
              "       [0],\n",
              "       [0],\n",
              "       [0],\n",
              "       [0],\n",
              "       [1],\n",
              "       [0],\n",
              "       [0],\n",
              "       [1],\n",
              "       [0],\n",
              "       [0],\n",
              "       [0],\n",
              "       [0],\n",
              "       [1],\n",
              "       [0],\n",
              "       [0],\n",
              "       [1],\n",
              "       [0],\n",
              "       [0],\n",
              "       [0],\n",
              "       [1],\n",
              "       [0],\n",
              "       [0],\n",
              "       [0],\n",
              "       [0],\n",
              "       [0],\n",
              "       [0],\n",
              "       [1],\n",
              "       [1],\n",
              "       [0],\n",
              "       [0],\n",
              "       [0],\n",
              "       [1],\n",
              "       [0],\n",
              "       [1],\n",
              "       [0],\n",
              "       [1],\n",
              "       [1],\n",
              "       [1],\n",
              "       [0],\n",
              "       [0],\n",
              "       [1],\n",
              "       [0],\n",
              "       [0],\n",
              "       [1],\n",
              "       [0],\n",
              "       [0],\n",
              "       [1]], dtype=int32)"
            ]
          },
          "metadata": {},
          "execution_count": 49
        }
      ]
    }
  ]
}