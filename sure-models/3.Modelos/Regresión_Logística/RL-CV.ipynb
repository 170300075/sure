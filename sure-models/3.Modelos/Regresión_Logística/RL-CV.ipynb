{
 "cells": [
  {
   "cell_type": "code",
   "execution_count": 1,
   "metadata": {},
   "outputs": [],
   "source": [
    "from sklearn.linear_model import LogisticRegressionCV\n",
    "from sklearn.metrics import roc_auc_score\n",
    "from sklearn.metrics import accuracy_score\n",
    "from sklearn.metrics import f1_score\n",
    "import pandas as pd\n",
    "import numpy as np"
   ]
  },
  {
   "cell_type": "markdown",
   "metadata": {},
   "source": [
    "### Se define la función principal rlcv() que recibe como parámetros el conjunto de entrenamiento y pruebas en ese órden. Los paramétros son objetos Pandas Dataframe. La función imprime el ROC, Accuracy y F1-Score al final de su ejecución."
   ]
  },
  {
   "cell_type": "code",
   "execution_count": 2,
   "metadata": {},
   "outputs": [],
   "source": [
    "def rlcv(train, test):\n",
    "    test_Y = test['carga_aprobada'].to_numpy()\n",
    "    del test[\"carga_aprobada\"]\n",
    "    test_X = test.to_numpy()\n",
    "    train_Y = train['carga_aprobada'].to_numpy()\n",
    "    del train[\"carga_aprobada\"]\n",
    "    train_X = train.to_numpy()\n",
    "    rlcv = LogisticRegressionCV(solver='lbfgs',cv=29, random_state=0).fit(train_X, train_Y)\n",
    "    predictions = rlcv.predict(test_X)\n",
    "    print(\"Logistic regression with Cross Validation:\")\n",
    "    print(\"ROC:\",roc_auc_score(test_Y, predictions),\"ACC:\", accuracy_score(test_Y, predictions), \"F1:\", f1_score(test_Y, predictions))\n",
    "    \n",
    "    return rlcv\n"
   ]
  },
  {
   "cell_type": "markdown",
   "metadata": {},
   "source": [
    "### Se leen los conjuntos de pruebas y entrenamiento"
   ]
  },
  {
   "cell_type": "code",
   "execution_count": 3,
   "metadata": {},
   "outputs": [
    {
     "data": {
      "text/plain": [
       "17"
      ]
     },
     "execution_count": 3,
     "metadata": {},
     "output_type": "execute_result"
    }
   ],
   "source": [
    "train = pd.read_csv('train_norm.csv')\n",
    "train.shape[1]"
   ]
  },
  {
   "cell_type": "code",
   "execution_count": 6,
   "metadata": {},
   "outputs": [
    {
     "data": {
      "text/plain": [
       "17"
      ]
     },
     "execution_count": 6,
     "metadata": {},
     "output_type": "execute_result"
    }
   ],
   "source": [
    "test = pd.read_csv('test_norm.csv')\n",
    "test.shape[1]"
   ]
  },
  {
   "cell_type": "code",
   "execution_count": 7,
   "metadata": {},
   "outputs": [
    {
     "name": "stdout",
     "output_type": "stream",
     "text": [
      "Logistic regression with Cross Validation:\n",
      "ROC: 0.7653104026845637 ACC: 0.7763496143958869 F1: 0.7109634551495017\n"
     ]
    }
   ],
   "source": [
    "modelo = rlcv(train, test)"
   ]
  },
  {
   "cell_type": "code",
   "execution_count": 8,
   "metadata": {},
   "outputs": [
    {
     "data": {
      "text/plain": [
       "sklearn.linear_model._logistic.LogisticRegressionCV"
      ]
     },
     "execution_count": 8,
     "metadata": {},
     "output_type": "execute_result"
    }
   ],
   "source": [
    "type(modelo)"
   ]
  }
 ],
 "metadata": {
  "kernelspec": {
   "display_name": "Python 3 (ipykernel)",
   "language": "python",
   "name": "python3"
  },
  "language_info": {
   "codemirror_mode": {
    "name": "ipython",
    "version": 3
   },
   "file_extension": ".py",
   "mimetype": "text/x-python",
   "name": "python",
   "nbconvert_exporter": "python",
   "pygments_lexer": "ipython3",
   "version": "3.8.3"
  }
 },
 "nbformat": 4,
 "nbformat_minor": 4
}
